{
  "nbformat": 4,
  "nbformat_minor": 0,
  "metadata": {
    "colab": {
      "provenance": [],
      "authorship_tag": "ABX9TyPK/QVqXO5EFHtZrfFpYA3c",
      "include_colab_link": true
    },
    "kernelspec": {
      "name": "python3",
      "display_name": "Python 3"
    },
    "language_info": {
      "name": "python"
    }
  },
  "cells": [
    {
      "cell_type": "markdown",
      "metadata": {
        "id": "view-in-github",
        "colab_type": "text"
      },
      "source": [
        "<a href=\"https://colab.research.google.com/github/Jayanthishre/github/blob/main/OOSE.ipynb\" target=\"_parent\"><img src=\"https://colab.research.google.com/assets/colab-badge.svg\" alt=\"Open In Colab\"/></a>"
      ]
    },
    {
      "cell_type": "code",
      "execution_count": null,
      "metadata": {
        "colab": {
          "base_uri": "https://localhost:8080/"
        },
        "id": "YP2LyATW_Vkm",
        "outputId": "2bd5ff5d-9beb-4258-e80d-748bdd78ab6c"
      },
      "outputs": [
        {
          "output_type": "stream",
          "name": "stdout",
          "text": [
            "         Date       Rain   Temp Max   Temp Min  Year  Month  TempRange  \\\n",
            "0  1951-01-01   0.728982  29.010000  20.250000  1951      1   8.760000   \n",
            "1  1951-02-01   0.000000  28.500000  19.969999  1951      2   8.530001   \n",
            "2  1951-03-01   1.845810  28.670000  18.680000  1951      3   9.990000   \n",
            "3  1951-04-01  54.681687  28.559999  18.750000  1951      4   9.809999   \n",
            "4  1951-05-01  19.389819  28.620001  18.350000  1951      5  10.270000   \n",
            "\n",
            "   Rain_3day  Rain_7day  \n",
            "0   0.728982   0.728982  \n",
            "1   0.728982   0.728982  \n",
            "2   2.574792   2.574792  \n",
            "3  56.527497  57.256478  \n",
            "4  75.917315  76.646297  \n"
          ]
        }
      ],
      "source": [
        "import pandas as pd\n",
        "\n",
        "# Load the dataset\n",
        "file_path = '/content/processed_flood_dataset.csv'  # Update with the correct path if necessary\n",
        "df = pd.read_csv(file_path)\n",
        "\n",
        "# Display the first few rows\n",
        "print(df.head())\n"
      ]
    },
    {
      "cell_type": "code",
      "source": [
        "# Check for missing values\n",
        "print(df.isnull().sum())\n",
        "\n",
        "# Fill missing values (example: forward fill method)\n",
        "df.fillna(method='ffill', inplace=True)"
      ],
      "metadata": {
        "colab": {
          "base_uri": "https://localhost:8080/"
        },
        "id": "UeZLV7yLAdPN",
        "outputId": "b2bb2fc8-cbb5-4661-b132-548430f5c49d"
      },
      "execution_count": null,
      "outputs": [
        {
          "output_type": "stream",
          "name": "stdout",
          "text": [
            "Date         0\n",
            "Rain         0\n",
            "Temp Max     1\n",
            "Temp Min     1\n",
            "Year         0\n",
            "Month        0\n",
            "TempRange    2\n",
            "Rain_3day    0\n",
            "Rain_7day    0\n",
            "dtype: int64\n"
          ]
        },
        {
          "output_type": "stream",
          "name": "stderr",
          "text": [
            "<ipython-input-6-22afe473b3e9>:5: FutureWarning: DataFrame.fillna with 'method' is deprecated and will raise in a future version. Use obj.ffill() or obj.bfill() instead.\n",
            "  df.fillna(method='ffill', inplace=True)\n"
          ]
        }
      ]
    },
    {
      "cell_type": "code",
      "source": [
        "# Select features and target variable\n",
        "features = ['Rain', 'Temp Max', 'Temp Min', 'TempRange', 'Rain_3day', 'Rain_7day']\n",
        "X = df[features]\n",
        "\n",
        "# Define a simple flood threshold (for example, based on Rain_7day)\n",
        "# This is for demonstration; adjust according to your criteria\n",
        "flood_threshold = 150  # Example threshold\n",
        "df['Flood'] = (df['Rain_7day'] > flood_threshold).astype(int)\n",
        "\n",
        "# Target variable\n",
        "y = df['Flood']"
      ],
      "metadata": {
        "id": "UrWEBd0mCuRS"
      },
      "execution_count": null,
      "outputs": []
    },
    {
      "cell_type": "code",
      "source": [
        "# Evaluate the accuracy of the model\n",
        "accuracy = accuracy_score(y_test, y_pred)\n",
        "print(f'Accuracy: {accuracy:.2f}')\n",
        "\n",
        "# Detailed classification report\n",
        "print(classification_report(y_test, y_pred))"
      ],
      "metadata": {
        "colab": {
          "base_uri": "https://localhost:8080/"
        },
        "id": "FdNvr_xIC457",
        "outputId": "2eb3a2c9-55ee-4e40-d076-1b0a77fea597"
      },
      "execution_count": null,
      "outputs": [
        {
          "output_type": "stream",
          "name": "stdout",
          "text": [
            "Accuracy: 1.00\n",
            "              precision    recall  f1-score   support\n",
            "\n",
            "           0       1.00      1.00      1.00      1999\n",
            "           1       1.00      1.00      1.00      5651\n",
            "\n",
            "    accuracy                           1.00      7650\n",
            "   macro avg       1.00      1.00      1.00      7650\n",
            "weighted avg       1.00      1.00      1.00      7650\n",
            "\n"
          ]
        }
      ]
    },
    {
      "cell_type": "code",
      "source": [
        "import joblib\n",
        "from sklearn.ensemble import RandomForestClassifier\n",
        "\n",
        "# Assuming you have trained your model as follows\n",
        "model = RandomForestClassifier(n_estimators=100, random_state=42)\n",
        "model.fit(X_train, y_train)\n",
        "\n",
        "# Save the trained model to a file\n",
        "joblib.dump(model, 'flood_model.pkl')\n"
      ],
      "metadata": {
        "colab": {
          "base_uri": "https://localhost:8080/"
        },
        "id": "eCyISOjhEUjq",
        "outputId": "2a388544-31d7-405c-bcad-c1ac77a90bed"
      },
      "execution_count": null,
      "outputs": [
        {
          "output_type": "execute_result",
          "data": {
            "text/plain": [
              "['flood_model.pkl']"
            ]
          },
          "metadata": {},
          "execution_count": 13
        }
      ]
    },
    {
      "cell_type": "code",
      "source": [
        "import joblib\n",
        "\n",
        "# Load the trained model from the file\n",
        "model = joblib.load('flood_model.pkl')\n"
      ],
      "metadata": {
        "id": "QCEeUePlFP8g"
      },
      "execution_count": null,
      "outputs": []
    },
    {
      "cell_type": "code",
      "source": [
        "import requests\n",
        "import pandas as pd\n",
        "import joblib  # For loading the trained model\n",
        "\n",
        "# Load the trained model\n",
        "model = joblib.load('flood_model.pkl')  # Update with your actual model file path\n",
        "\n",
        "# Function to fetch current weather data\n",
        "def fetch_current_weather(api_key, location):\n",
        "    url = f\"http://api.weatherapi.com/v1/current.json?key={api_key}&q={location}&aqi=no\"\n",
        "    response = requests.get(url)\n",
        "    if response.status_code == 200:\n",
        "        return response.json()\n",
        "    else:\n",
        "        print(\"Error fetching data from WeatherAPI\")\n",
        "        return None\n",
        "\n",
        "# Preprocess the fetched weather data to match the trained model's features\n",
        "def preprocess_weather_data(weather_data):\n",
        "    # Extract relevant features (example)\n",
        "    temp_max = weather_data['current']['temp_c']\n",
        "    temp_min = temp_max - 5  # Example assumption, adjust based on your dataset\n",
        "    rain = weather_data['current']['precip_mm']\n",
        "\n",
        "    # Example feature engineering\n",
        "    temp_range = temp_max - temp_min\n",
        "    rain_3day = rain  # Assuming you only have current data, adjust this if you have access to past days' data\n",
        "    rain_7day = rain  # Same as above\n",
        "\n",
        "    # Create a DataFrame with the same columns as used in training\n",
        "    df = pd.DataFrame([[rain, temp_max, temp_min, temp_range, rain_3day, rain_7day]],\n",
        "                      columns=['Rain', 'Temp Max', 'Temp Min', 'TempRange', 'Rain_3day', 'Rain_7day'])\n",
        "\n",
        "    return df\n",
        "\n",
        "# Predict flood risk\n",
        "def predict_flood_risk(df):\n",
        "    prediction = model.predict(df)\n",
        "    return prediction[0]\n",
        "\n",
        "# Example usage\n",
        "api_key = '0fd6e4f0b4d54aa48b8132053242008'  # Replace with your WeatherAPI key\n",
        "location = 'Chennai'  # Replace with your location\n",
        "\n",
        "# Fetch the current weather data\n",
        "weather_data = fetch_current_weather(api_key, location)\n",
        "\n",
        "if weather_data:\n",
        "    # Preprocess the current weather data\n",
        "    preprocessed_data = preprocess_weather_data(weather_data)\n",
        "\n",
        "    # Predict the flood risk\n",
        "    flood_risk = predict_flood_risk(preprocessed_data)\n",
        "\n",
        "    # Output the result\n",
        "    if flood_risk == 1:\n",
        "        print(\"High flood risk! Take precautions.\")\n",
        "    else:\n",
        "        print(\"Low flood risk.\")\n"
      ],
      "metadata": {
        "id": "zWRT4R9wFZ44",
        "outputId": "e73c124a-9cc1-496f-b80d-d1648a6427f2",
        "colab": {
          "base_uri": "https://localhost:8080/"
        }
      },
      "execution_count": null,
      "outputs": [
        {
          "output_type": "stream",
          "name": "stdout",
          "text": [
            "Low flood risk.\n"
          ]
        }
      ]
    },
    {
      "cell_type": "code",
      "source": [],
      "metadata": {
        "id": "SuIxE446FaDu"
      },
      "execution_count": null,
      "outputs": []
    }
  ]
}