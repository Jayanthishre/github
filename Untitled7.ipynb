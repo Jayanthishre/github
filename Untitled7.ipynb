{
  "nbformat": 4,
  "nbformat_minor": 0,
  "metadata": {
    "colab": {
      "provenance": [],
      "authorship_tag": "ABX9TyMRJJeeypHoKGzmt/f53iQH",
      "include_colab_link": true
    },
    "kernelspec": {
      "name": "python3",
      "display_name": "Python 3"
    },
    "language_info": {
      "name": "python"
    }
  },
  "cells": [
    {
      "cell_type": "markdown",
      "metadata": {
        "id": "view-in-github",
        "colab_type": "text"
      },
      "source": [
        "<a href=\"https://colab.research.google.com/github/Jayanthishre/github/blob/main/Untitled7.ipynb\" target=\"_parent\"><img src=\"https://colab.research.google.com/assets/colab-badge.svg\" alt=\"Open In Colab\"/></a>"
      ]
    },
    {
      "cell_type": "code",
      "execution_count": 3,
      "metadata": {
        "colab": {
          "base_uri": "https://localhost:8080/"
        },
        "id": "UtsALUMh7UdT",
        "outputId": "9ef7b833-6234-4b67-b7e5-ea377131c0ea"
      },
      "outputs": [
        {
          "output_type": "stream",
          "name": "stdout",
          "text": [
            "Error fetching data from OpenWeatherMap API\n"
          ]
        }
      ],
      "source": [
        "import requests\n",
        "\n",
        "def fetch_weather_data(api_key, location):\n",
        "    url = f\"https://www.weatherapi.com/docs//current.json \"\n",
        "    response = requests.get(url)\n",
        "    if response.status_code == 200:\n",
        "        return response.json()\n",
        "    else:\n",
        "        print(\"Error fetching data from OpenWeatherMap API\")\n",
        "        return None\n",
        "\n",
        "# Example usage\n",
        "api_key = '0fd6e4f0b4d54aa48b8132053242008'  # Replace with your OpenWeatherMap API key\n",
        "location = 'New York'  # Replace with your location\n",
        "weather_data = fetch_weather_data(api_key, location)\n",
        "\n",
        "if weather_data:\n",
        "    print(\"Weather Data:\", weather_data)\n"
      ]
    },
    {
      "cell_type": "code",
      "source": [
        "import requests\n",
        "\n",
        "def fetch_weather_data(api_key, location):\n",
        "    url = f\"http://api.weatherapi.com/v1/current.json?key={api_key}&q={location}&aqi=no\"\n",
        "    response = requests.get(url)\n",
        "    if response.status_code == 200:\n",
        "        return response.json()\n",
        "    else:\n",
        "        print(\"Error fetching data from WeatherAPI\")\n",
        "        return None\n",
        "\n",
        "# Example usage\n",
        "api_key = '0fd6e4f0b4d54aa48b8132053242008'  # Replace with your WeatherAPI key\n",
        "location = 'Chennai'  # Replace with your location\n",
        "weather_data = fetch_weather_data(api_key, location)\n",
        "\n",
        "if weather_data:\n",
        "    print(\"Weather Data:\", weather_data)\n"
      ],
      "metadata": {
        "colab": {
          "base_uri": "https://localhost:8080/"
        },
        "id": "nAufTa9R87HW",
        "outputId": "63fd7850-168c-4f6f-c8f4-68594e67ecfd"
      },
      "execution_count": 5,
      "outputs": [
        {
          "output_type": "stream",
          "name": "stdout",
          "text": [
            "Weather Data: {'location': {'name': 'Chennai', 'region': 'Tamil Nadu', 'country': 'India', 'lat': 13.08, 'lon': 80.28, 'tz_id': 'Asia/Kolkata', 'localtime_epoch': 1724160454, 'localtime': '2024-08-20 18:57'}, 'current': {'last_updated_epoch': 1724159700, 'last_updated': '2024-08-20 18:45', 'temp_c': 31.1, 'temp_f': 88.0, 'is_day': 0, 'condition': {'text': 'Mist', 'icon': '//cdn.weatherapi.com/weather/64x64/night/143.png', 'code': 1030}, 'wind_mph': 12.5, 'wind_kph': 20.2, 'wind_degree': 180, 'wind_dir': 'S', 'pressure_mb': 1003.0, 'pressure_in': 29.62, 'precip_mm': 0.0, 'precip_in': 0.0, 'humidity': 79, 'cloud': 50, 'feelslike_c': 40.2, 'feelslike_f': 104.4, 'windchill_c': 29.6, 'windchill_f': 85.3, 'heatindex_c': 36.1, 'heatindex_f': 96.9, 'dewpoint_c': 25.6, 'dewpoint_f': 78.1, 'vis_km': 5.0, 'vis_miles': 3.0, 'uv': 1.0, 'gust_mph': 20.2, 'gust_kph': 32.5}}\n"
          ]
        }
      ]
    },
    {
      "cell_type": "code",
      "source": [
        "def extract_features(weather_data):\n",
        "    # Extract relevant features\n",
        "    rainfall = weather_data['current'].get('precip_mm', 0)  # Rainfall in mm\n",
        "    temperature = weather_data['current']['temp_c']  # Temperature in Celsius\n",
        "    return [rainfall, temperature]\n",
        "\n",
        "# Example usage\n",
        "features = extract_features(weather_data)\n",
        "print(\"Extracted Features:\", features)\n"
      ],
      "metadata": {
        "colab": {
          "base_uri": "https://localhost:8080/"
        },
        "id": "p2IGv-PD-fo6",
        "outputId": "a4f1eb70-df1c-48d7-b2db-85069994c1fd"
      },
      "execution_count": 6,
      "outputs": [
        {
          "output_type": "stream",
          "name": "stdout",
          "text": [
            "Extracted Features: [0.0, 31.1]\n"
          ]
        }
      ]
    },
    {
      "cell_type": "code",
      "source": [
        "import pickle\n",
        "import numpy as np\n",
        "\n",
        "# Load the trained model\n",
        "def load_model():\n",
        "    with open(\"flood_model.pkl\", \"rb\") as model_file:\n",
        "        model = pickle.load(model_file)\n",
        "    return model\n",
        "\n",
        "# Predict flood based on features\n",
        "def predict_flood(features, model):\n",
        "    probability = model.predict_proba([features])[0][1]  # Get probability of flood\n",
        "    return probability\n",
        "\n",
        "# Categorize flood risk based on probability\n",
        "def categorize_risk(probability):\n",
        "    if probability < 0.3:\n",
        "        return \"Low Risk\"\n",
        "    elif 0.3 <= probability < 0.7:\n",
        "        return \"Moderate Risk\"\n",
        "    else:\n",
        "        return \"High Risk\"\n",
        "\n",
        "# Trigger a sound alert based on risk level\n",
        "def trigger_sound_alert(risk_level):\n",
        "    from playsound import playsound\n",
        "    import time\n",
        "\n",
        "    if risk_level == \"Low Risk\":\n",
        "        playsound('low_risk_alert.mp3')\n",
        "    elif risk_level == \"Moderate Risk\":\n",
        "        playsound('moderate_risk_alert.mp3')\n",
        "    elif risk_level == \"High Risk\":\n",
        "        playsound('high_risk_alert.mp3')\n",
        "        time.sleep(1)\n",
        "        playsound('high_risk_alert.mp3')\n",
        "\n",
        "# Main function\n",
        "if __name__ == \"__main__\":\n",
        "    api_key = '0fd6e4f0b4d54aa48b8132053242008'  # Replace with your WeatherAPI key\n",
        "    location = 'Chennai'  # Replace with your location\n",
        "\n",
        "    # Fetch weather data\n",
        "    weather_data = fetch_weather_data(api_key, location)\n",
        "    if weather_data:\n",
        "        # Extract features and predict flood risk\n",
        "        features = extract_features(weather_data)\n",
        "        model = load_model()\n",
        "        flood_probability = predict_flood(features, model)\n",
        "\n",
        "        # Categorize risk and trigger the appropriate alert\n",
        "        risk_level = categorize_risk(flood_probability)\n",
        "        print(f\"Flood Risk Level: {risk_level}\")\n",
        "        trigger_sound_alert(risk_level)\n"
      ],
      "metadata": {
        "colab": {
          "base_uri": "https://localhost:8080/",
          "height": 332
        },
        "id": "43r4Mpb1-r0D",
        "outputId": "bab72317-af20-4384-a446-7b86aff90fa3"
      },
      "execution_count": 7,
      "outputs": [
        {
          "output_type": "error",
          "ename": "FileNotFoundError",
          "evalue": "[Errno 2] No such file or directory: 'flood_model.pkl'",
          "traceback": [
            "\u001b[0;31m---------------------------------------------------------------------------\u001b[0m",
            "\u001b[0;31mFileNotFoundError\u001b[0m                         Traceback (most recent call last)",
            "\u001b[0;32m<ipython-input-7-a59d64cf6a58>\u001b[0m in \u001b[0;36m<cell line: 39>\u001b[0;34m()\u001b[0m\n\u001b[1;32m     46\u001b[0m         \u001b[0;31m# Extract features and predict flood risk\u001b[0m\u001b[0;34m\u001b[0m\u001b[0;34m\u001b[0m\u001b[0m\n\u001b[1;32m     47\u001b[0m         \u001b[0mfeatures\u001b[0m \u001b[0;34m=\u001b[0m \u001b[0mextract_features\u001b[0m\u001b[0;34m(\u001b[0m\u001b[0mweather_data\u001b[0m\u001b[0;34m)\u001b[0m\u001b[0;34m\u001b[0m\u001b[0;34m\u001b[0m\u001b[0m\n\u001b[0;32m---> 48\u001b[0;31m         \u001b[0mmodel\u001b[0m \u001b[0;34m=\u001b[0m \u001b[0mload_model\u001b[0m\u001b[0;34m(\u001b[0m\u001b[0;34m)\u001b[0m\u001b[0;34m\u001b[0m\u001b[0;34m\u001b[0m\u001b[0m\n\u001b[0m\u001b[1;32m     49\u001b[0m         \u001b[0mflood_probability\u001b[0m \u001b[0;34m=\u001b[0m \u001b[0mpredict_flood\u001b[0m\u001b[0;34m(\u001b[0m\u001b[0mfeatures\u001b[0m\u001b[0;34m,\u001b[0m \u001b[0mmodel\u001b[0m\u001b[0;34m)\u001b[0m\u001b[0;34m\u001b[0m\u001b[0;34m\u001b[0m\u001b[0m\n\u001b[1;32m     50\u001b[0m \u001b[0;34m\u001b[0m\u001b[0m\n",
            "\u001b[0;32m<ipython-input-7-a59d64cf6a58>\u001b[0m in \u001b[0;36mload_model\u001b[0;34m()\u001b[0m\n\u001b[1;32m      4\u001b[0m \u001b[0;31m# Load the trained model\u001b[0m\u001b[0;34m\u001b[0m\u001b[0;34m\u001b[0m\u001b[0m\n\u001b[1;32m      5\u001b[0m \u001b[0;32mdef\u001b[0m \u001b[0mload_model\u001b[0m\u001b[0;34m(\u001b[0m\u001b[0;34m)\u001b[0m\u001b[0;34m:\u001b[0m\u001b[0;34m\u001b[0m\u001b[0;34m\u001b[0m\u001b[0m\n\u001b[0;32m----> 6\u001b[0;31m     \u001b[0;32mwith\u001b[0m \u001b[0mopen\u001b[0m\u001b[0;34m(\u001b[0m\u001b[0;34m\"flood_model.pkl\"\u001b[0m\u001b[0;34m,\u001b[0m \u001b[0;34m\"rb\"\u001b[0m\u001b[0;34m)\u001b[0m \u001b[0;32mas\u001b[0m \u001b[0mmodel_file\u001b[0m\u001b[0;34m:\u001b[0m\u001b[0;34m\u001b[0m\u001b[0;34m\u001b[0m\u001b[0m\n\u001b[0m\u001b[1;32m      7\u001b[0m         \u001b[0mmodel\u001b[0m \u001b[0;34m=\u001b[0m \u001b[0mpickle\u001b[0m\u001b[0;34m.\u001b[0m\u001b[0mload\u001b[0m\u001b[0;34m(\u001b[0m\u001b[0mmodel_file\u001b[0m\u001b[0;34m)\u001b[0m\u001b[0;34m\u001b[0m\u001b[0;34m\u001b[0m\u001b[0m\n\u001b[1;32m      8\u001b[0m     \u001b[0;32mreturn\u001b[0m \u001b[0mmodel\u001b[0m\u001b[0;34m\u001b[0m\u001b[0;34m\u001b[0m\u001b[0m\n",
            "\u001b[0;31mFileNotFoundError\u001b[0m: [Errno 2] No such file or directory: 'flood_model.pkl'"
          ]
        }
      ]
    },
    {
      "cell_type": "code",
      "source": [
        "import requests\n",
        "import pandas as pd\n",
        "\n",
        "def fetch_weather_data(api_key, location):\n",
        "    url = f\"http://api.weatherapi.com/v1/current.json?key={api_key}&q={location}&aqi=no\"\n",
        "    response = requests.get(url)\n",
        "    if response.status_code == 200:\n",
        "        return response.json()\n",
        "    else:\n",
        "        print(\"Error fetching data from WeatherAPI\")\n",
        "        return None\n",
        "\n",
        "def weather_data_to_dataframe(weather_data):\n",
        "    # Extract relevant information\n",
        "    data = {\n",
        "        \"Location\": weather_data['location']['name'],\n",
        "        \"Region\": weather_data['location']['region'],\n",
        "        \"Country\": weather_data['location']['country'],\n",
        "        \"Local Time\": weather_data['location']['localtime'],\n",
        "        \"Temperature (C)\": weather_data['current']['temp_c'],\n",
        "        \"Condition\": weather_data['current']['condition']['text'],\n",
        "        \"Wind (kph)\": weather_data['current']['wind_kph'],\n",
        "        \"Humidity (%)\": weather_data['current']['humidity'],\n",
        "        \"Precipitation (mm)\": weather_data['current'].get('precip_mm', 0),\n",
        "        \"Cloud Cover (%)\": weather_data['current']['cloud'],\n",
        "        \"Feels Like (C)\": weather_data['current']['feelslike_c'],\n",
        "        \"UV Index\": weather_data['current']['uv']\n",
        "    }\n",
        "\n",
        "    # Convert to DataFrame\n",
        "    df = pd.DataFrame([data])\n",
        "    return df\n",
        "\n",
        "# Example usage\n",
        "api_key = '0fd6e4f0b4d54aa48b8132053242008'  # Replace with your WeatherAPI key\n",
        "location = 'India'  # Replace with your location\n",
        "weather_data = fetch_weather_data(api_key, location)\n",
        "\n",
        "if weather_data:\n",
        "    weather_df = weather_data_to_dataframe(weather_data)\n",
        "    print(weather_df)\n"
      ],
      "metadata": {
        "colab": {
          "base_uri": "https://localhost:8080/"
        },
        "id": "Ux3FDWyi_RXF",
        "outputId": "e6ba5231-54b9-4ab5-fda7-e4d2010a5aa8"
      },
      "execution_count": 9,
      "outputs": [
        {
          "output_type": "stream",
          "name": "stdout",
          "text": [
            "    Location Region Country        Local Time  Temperature (C)  \\\n",
            "0  New Delhi  Delhi   India  2024-08-20 19:01             31.1   \n",
            "\n",
            "                             Condition  Wind (kph)  Humidity (%)  \\\n",
            "0  Moderate or heavy rain with thunder         6.1            71   \n",
            "\n",
            "   Precipitation (mm)  Cloud Cover (%)  Feels Like (C)  UV Index  \n",
            "0                 0.0               75            33.8       1.0  \n"
          ]
        }
      ]
    },
    {
      "cell_type": "code",
      "source": [
        "import pandas as pd\n",
        "\n",
        "# Load the dataset\n",
        "file_path = 'processed_flood_dataset.csv'  # Update with the correct path if necessary\n",
        "df = pd.read_csv(file_path)\n",
        "\n",
        "# Display the first few rows\n",
        "print(df.head())\n"
      ],
      "metadata": {
        "colab": {
          "base_uri": "https://localhost:8080/"
        },
        "id": "RZ9AkHvcEjY6",
        "outputId": "96299240-ed21-4c10-8fd5-5a92d289724f"
      },
      "execution_count": 11,
      "outputs": [
        {
          "output_type": "stream",
          "name": "stdout",
          "text": [
            "         Date       Rain   Temp Max   Temp Min  Year  Month  TempRange  \\\n",
            "0  1951-01-01   0.728982  29.010000  20.250000  1951      1   8.760000   \n",
            "1  1951-02-01   0.000000  28.500000  19.969999  1951      2   8.530001   \n",
            "2  1951-03-01   1.845810  28.670000  18.680000  1951      3   9.990000   \n",
            "3  1951-04-01  54.681687  28.559999  18.750000  1951      4   9.809999   \n",
            "4  1951-05-01  19.389819  28.620001  18.350000  1951      5  10.270000   \n",
            "\n",
            "   Rain_3day  Rain_7day  \n",
            "0   0.728982   0.728982  \n",
            "1   0.728982   0.728982  \n",
            "2   2.574792   2.574792  \n",
            "3  56.527497  57.256478  \n",
            "4  75.917315  76.646297  \n"
          ]
        }
      ]
    },
    {
      "cell_type": "code",
      "source": [
        "# Check for missing values\n",
        "print(df.isnull().sum())\n",
        "\n",
        "# Fill missing values (example: forward fill method)\n",
        "df.fillna(method='ffill', inplace=True)\n"
      ],
      "metadata": {
        "colab": {
          "base_uri": "https://localhost:8080/"
        },
        "id": "1L0u_RyJHvGw",
        "outputId": "d9672ee9-453d-44e3-fc83-65c7bd1fdbc5"
      },
      "execution_count": 12,
      "outputs": [
        {
          "output_type": "stream",
          "name": "stdout",
          "text": [
            "Date         0\n",
            "Rain         0\n",
            "Temp Max     1\n",
            "Temp Min     1\n",
            "Year         0\n",
            "Month        0\n",
            "TempRange    2\n",
            "Rain_3day    0\n",
            "Rain_7day    0\n",
            "dtype: int64\n"
          ]
        },
        {
          "output_type": "stream",
          "name": "stderr",
          "text": [
            "<ipython-input-12-22afe473b3e9>:5: FutureWarning: DataFrame.fillna with 'method' is deprecated and will raise in a future version. Use obj.ffill() or obj.bfill() instead.\n",
            "  df.fillna(method='ffill', inplace=True)\n"
          ]
        }
      ]
    },
    {
      "cell_type": "code",
      "source": [
        "# Select features and target variable\n",
        "features = ['Rain', 'Temp Max', 'Temp Min', 'TempRange', 'Rain_3day', 'Rain_7day']\n",
        "X = df[features]\n",
        "\n",
        "# Define a simple flood threshold (for example, based on Rain_7day)\n",
        "# This is for demonstration; adjust according to your criteria\n",
        "flood_threshold = 150  # Example threshold\n",
        "df['Flood'] = (df['Rain_7day'] > flood_threshold).astype(int)\n",
        "\n",
        "# Target variable\n",
        "y = df['Flood']\n"
      ],
      "metadata": {
        "id": "Vu60ucztHvJk"
      },
      "execution_count": 13,
      "outputs": []
    },
    {
      "cell_type": "code",
      "source": [
        "from sklearn.model_selection import train_test_split\n",
        "from sklearn.ensemble import RandomForestClassifier\n",
        "from sklearn.metrics import accuracy_score, classification_report\n",
        "\n",
        "# Split the data into training and testing sets\n",
        "X_train, X_test, y_train, y_test = train_test_split(X, y, test_size=0.3, random_state=42)\n",
        "\n",
        "# Initialize the model\n",
        "model = RandomForestClassifier(n_estimators=100, random_state=42)\n",
        "\n",
        "# Train the model\n",
        "model.fit(X_train, y_train)\n",
        "\n",
        "# Make predictions on the test set\n",
        "y_pred = model.predict(X_test)\n"
      ],
      "metadata": {
        "id": "cQy0LhEaHxBj"
      },
      "execution_count": 14,
      "outputs": []
    },
    {
      "cell_type": "code",
      "source": [
        "# Evaluate the accuracy of the model\n",
        "accuracy = accuracy_score(y_test, y_pred)\n",
        "print(f'Accuracy: {accuracy:.2f}')\n",
        "\n",
        "# Detailed classification report\n",
        "print(classification_report(y_test, y_pred))\n"
      ],
      "metadata": {
        "colab": {
          "base_uri": "https://localhost:8080/"
        },
        "id": "8zfTbxqXH8Pv",
        "outputId": "3ec34072-53ef-483d-a7ec-b5b3046de535"
      },
      "execution_count": 15,
      "outputs": [
        {
          "output_type": "stream",
          "name": "stdout",
          "text": [
            "Accuracy: 1.00\n",
            "              precision    recall  f1-score   support\n",
            "\n",
            "           0       1.00      1.00      1.00      1999\n",
            "           1       1.00      1.00      1.00      5651\n",
            "\n",
            "    accuracy                           1.00      7650\n",
            "   macro avg       1.00      1.00      1.00      7650\n",
            "weighted avg       1.00      1.00      1.00      7650\n",
            "\n"
          ]
        }
      ]
    },
    {
      "cell_type": "code",
      "source": [],
      "metadata": {
        "id": "T_HJaPnZI14D"
      },
      "execution_count": null,
      "outputs": []
    }
  ]
}